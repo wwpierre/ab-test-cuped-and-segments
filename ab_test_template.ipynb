{
 "cells": [
  {
   "cell_type": "code",
   "execution_count": 4,
   "id": "70fcd6ca",
   "metadata": {},
   "outputs": [],
   "source": [
    "import pandas as pd\n",
    "import numpy as np\n",
    "from scipy import stats\n",
    "import statsmodels.api as sm\n",
    "import statsmodels.stats.api as sms\n",
    "import matplotlib.pyplot as plt"
   ]
  },
  {
   "cell_type": "code",
   "execution_count": 7,
   "id": "5735f078",
   "metadata": {},
   "outputs": [
    {
     "name": "stdout",
     "output_type": "stream",
     "text": [
      "shape: (12000, 11)\n"
     ]
    },
    {
     "data": {
      "text/html": [
       "<div>\n",
       "<style scoped>\n",
       "    .dataframe tbody tr th:only-of-type {\n",
       "        vertical-align: middle;\n",
       "    }\n",
       "\n",
       "    .dataframe tbody tr th {\n",
       "        vertical-align: top;\n",
       "    }\n",
       "\n",
       "    .dataframe thead th {\n",
       "        text-align: right;\n",
       "    }\n",
       "</style>\n",
       "<table border=\"1\" class=\"dataframe\">\n",
       "  <thead>\n",
       "    <tr style=\"text-align: right;\">\n",
       "      <th></th>\n",
       "      <th>user_id</th>\n",
       "      <th>assigned_ts</th>\n",
       "      <th>variant</th>\n",
       "      <th>country</th>\n",
       "      <th>device</th>\n",
       "      <th>source</th>\n",
       "      <th>prior_activity</th>\n",
       "      <th>sessions</th>\n",
       "      <th>converted</th>\n",
       "      <th>conversion_ts</th>\n",
       "      <th>revenue</th>\n",
       "    </tr>\n",
       "  </thead>\n",
       "  <tbody>\n",
       "    <tr>\n",
       "      <th>0</th>\n",
       "      <td>1936</td>\n",
       "      <td>2025-08-12 05:04:00</td>\n",
       "      <td>A</td>\n",
       "      <td>UK</td>\n",
       "      <td>mobile</td>\n",
       "      <td>organic</td>\n",
       "      <td>0.0141</td>\n",
       "      <td>1</td>\n",
       "      <td>0</td>\n",
       "      <td>NaT</td>\n",
       "      <td>13.18</td>\n",
       "    </tr>\n",
       "    <tr>\n",
       "      <th>1</th>\n",
       "      <td>6495</td>\n",
       "      <td>2025-08-07 09:01:00</td>\n",
       "      <td>A</td>\n",
       "      <td>US</td>\n",
       "      <td>mobile</td>\n",
       "      <td>ads</td>\n",
       "      <td>0.0832</td>\n",
       "      <td>5</td>\n",
       "      <td>0</td>\n",
       "      <td>NaT</td>\n",
       "      <td>7.27</td>\n",
       "    </tr>\n",
       "    <tr>\n",
       "      <th>2</th>\n",
       "      <td>1721</td>\n",
       "      <td>2025-08-03 17:24:00</td>\n",
       "      <td>B</td>\n",
       "      <td>UK</td>\n",
       "      <td>desktop</td>\n",
       "      <td>organic</td>\n",
       "      <td>0.4556</td>\n",
       "      <td>4</td>\n",
       "      <td>0</td>\n",
       "      <td>NaT</td>\n",
       "      <td>5.58</td>\n",
       "    </tr>\n",
       "    <tr>\n",
       "      <th>3</th>\n",
       "      <td>9121</td>\n",
       "      <td>2025-08-10 23:28:00</td>\n",
       "      <td>A</td>\n",
       "      <td>UK</td>\n",
       "      <td>mobile</td>\n",
       "      <td>organic</td>\n",
       "      <td>0.1178</td>\n",
       "      <td>4</td>\n",
       "      <td>1</td>\n",
       "      <td>2025-08-11 07:23:43.261786</td>\n",
       "      <td>18.55</td>\n",
       "    </tr>\n",
       "    <tr>\n",
       "      <th>4</th>\n",
       "      <td>361</td>\n",
       "      <td>2025-08-02 03:40:00</td>\n",
       "      <td>A</td>\n",
       "      <td>SE</td>\n",
       "      <td>mobile</td>\n",
       "      <td>ads</td>\n",
       "      <td>0.7019</td>\n",
       "      <td>1</td>\n",
       "      <td>0</td>\n",
       "      <td>NaT</td>\n",
       "      <td>14.30</td>\n",
       "    </tr>\n",
       "    <tr>\n",
       "      <th>5</th>\n",
       "      <td>9664</td>\n",
       "      <td>2025-08-05 16:19:00</td>\n",
       "      <td>A</td>\n",
       "      <td>PL</td>\n",
       "      <td>mobile</td>\n",
       "      <td>ads</td>\n",
       "      <td>0.4612</td>\n",
       "      <td>2</td>\n",
       "      <td>0</td>\n",
       "      <td>NaT</td>\n",
       "      <td>8.15</td>\n",
       "    </tr>\n",
       "    <tr>\n",
       "      <th>6</th>\n",
       "      <td>5278</td>\n",
       "      <td>2025-08-02 17:41:00</td>\n",
       "      <td>B</td>\n",
       "      <td>SE</td>\n",
       "      <td>desktop</td>\n",
       "      <td>organic</td>\n",
       "      <td>0.1260</td>\n",
       "      <td>3</td>\n",
       "      <td>0</td>\n",
       "      <td>NaT</td>\n",
       "      <td>17.69</td>\n",
       "    </tr>\n",
       "    <tr>\n",
       "      <th>7</th>\n",
       "      <td>8547</td>\n",
       "      <td>2025-08-10 01:29:00</td>\n",
       "      <td>B</td>\n",
       "      <td>UK</td>\n",
       "      <td>desktop</td>\n",
       "      <td>email</td>\n",
       "      <td>0.3166</td>\n",
       "      <td>3</td>\n",
       "      <td>0</td>\n",
       "      <td>NaT</td>\n",
       "      <td>38.84</td>\n",
       "    </tr>\n",
       "    <tr>\n",
       "      <th>8</th>\n",
       "      <td>2222</td>\n",
       "      <td>2025-08-11 21:41:00</td>\n",
       "      <td>B</td>\n",
       "      <td>PL</td>\n",
       "      <td>mobile</td>\n",
       "      <td>organic</td>\n",
       "      <td>0.6919</td>\n",
       "      <td>3</td>\n",
       "      <td>0</td>\n",
       "      <td>NaT</td>\n",
       "      <td>4.83</td>\n",
       "    </tr>\n",
       "    <tr>\n",
       "      <th>9</th>\n",
       "      <td>4618</td>\n",
       "      <td>2025-08-13 15:40:00</td>\n",
       "      <td>B</td>\n",
       "      <td>SE</td>\n",
       "      <td>desktop</td>\n",
       "      <td>ads</td>\n",
       "      <td>0.1488</td>\n",
       "      <td>1</td>\n",
       "      <td>0</td>\n",
       "      <td>NaT</td>\n",
       "      <td>15.25</td>\n",
       "    </tr>\n",
       "  </tbody>\n",
       "</table>\n",
       "</div>"
      ],
      "text/plain": [
       "   user_id         assigned_ts variant country   device   source  \\\n",
       "0     1936 2025-08-12 05:04:00       A      UK   mobile  organic   \n",
       "1     6495 2025-08-07 09:01:00       A      US   mobile      ads   \n",
       "2     1721 2025-08-03 17:24:00       B      UK  desktop  organic   \n",
       "3     9121 2025-08-10 23:28:00       A      UK   mobile  organic   \n",
       "4      361 2025-08-02 03:40:00       A      SE   mobile      ads   \n",
       "5     9664 2025-08-05 16:19:00       A      PL   mobile      ads   \n",
       "6     5278 2025-08-02 17:41:00       B      SE  desktop  organic   \n",
       "7     8547 2025-08-10 01:29:00       B      UK  desktop    email   \n",
       "8     2222 2025-08-11 21:41:00       B      PL   mobile  organic   \n",
       "9     4618 2025-08-13 15:40:00       B      SE  desktop      ads   \n",
       "\n",
       "   prior_activity  sessions  converted              conversion_ts  revenue  \n",
       "0          0.0141         1          0                        NaT    13.18  \n",
       "1          0.0832         5          0                        NaT     7.27  \n",
       "2          0.4556         4          0                        NaT     5.58  \n",
       "3          0.1178         4          1 2025-08-11 07:23:43.261786    18.55  \n",
       "4          0.7019         1          0                        NaT    14.30  \n",
       "5          0.4612         2          0                        NaT     8.15  \n",
       "6          0.1260         3          0                        NaT    17.69  \n",
       "7          0.3166         3          0                        NaT    38.84  \n",
       "8          0.6919         3          0                        NaT     4.83  \n",
       "9          0.1488         1          0                        NaT    15.25  "
      ]
     },
     "execution_count": 7,
     "metadata": {},
     "output_type": "execute_result"
    }
   ],
   "source": [
    "CSV_PATH = r\"ab_test_mock_data.csv\"\n",
    "parse_dates = [\"assigned_ts\",\"conversion_ts\"]\n",
    "existing_cols = pd.read_csv(CSV_PATH, nrows=1).columns.tolist()\n",
    "to_parse = [c for c in parse_dates if c in existing_cols]\n",
    "df = pd.read_csv(CSV_PATH, parse_dates=to_parse)\n",
    "print(\"shape:\", df.shape)\n",
    "df.head(10)"
   ]
  },
  {
   "cell_type": "code",
   "execution_count": 42,
   "id": "56f50d46",
   "metadata": {},
   "outputs": [],
   "source": [
    "from math import erf\n",
    "\n",
    "def proportions_ztest(success_a, total_a, success_b, total_b):\n",
    "    \"\"\"Двухсторонний z-тест для разницы долей (B vs A, pooled SE).\"\"\"\n",
    "    p1 = success_a/total_a\n",
    "    p2 = success_b/total_b\n",
    "    p_pool = (success_a + success_b) / (total_a + total_b)\n",
    "    se = np.sqrt(p_pool*(1-p_pool)*(1/total_a + 1/total_b))\n",
    "    z = (p2 - p1) / se\n",
    "    # two-sided p-value через нормальное распределение\n",
    "    def norm_cdf(x): return 0.5*(1 + erf(x/np.sqrt(2)))\n",
    "    p_value = 2*(1 - norm_cdf(abs(z)))\n",
    "    return z, p_value\n",
    "\n",
    "def ci_diff_wald(success_a, total_a, success_b, total_b, alpha=0.05):\n",
    "    \"\"\"95% Wald CI для разницы долей (B-A). Для прод — лучше Ньюкомб/Уилсон.\"\"\"\n",
    "    p1 = success_a/total_a\n",
    "    p2 = success_b/total_b\n",
    "    se = np.sqrt(p1*(1-p1)/total_a + p2*(1-p2)/total_b)\n",
    "    z = stats.norm.ppf(1 - alpha/2)\n",
    "    diff = p2 - p1\n",
    "    return diff, (diff - z*se, diff + z*se)\n",
    "\n",
    "def cuped(y, x):\n",
    "    \"\"\"CUPED: снижение дисперсии с помощью предиктора x (предэксп. ковариат).\"\"\"\n",
    "    x = x - x.mean()\n",
    "    theta = np.cov(y, x, ddof=0)[0,1] / np.var(x, ddof=0)\n",
    "    y_adj = y - theta * x\n",
    "    return y_adj, theta\n"
   ]
  },
  {
   "cell_type": "code",
   "execution_count": 16,
   "id": "21d73353",
   "metadata": {},
   "outputs": [
    {
     "data": {
      "text/html": [
       "<div>\n",
       "<style scoped>\n",
       "    .dataframe tbody tr th:only-of-type {\n",
       "        vertical-align: middle;\n",
       "    }\n",
       "\n",
       "    .dataframe tbody tr th {\n",
       "        vertical-align: top;\n",
       "    }\n",
       "\n",
       "    .dataframe thead th {\n",
       "        text-align: right;\n",
       "    }\n",
       "</style>\n",
       "<table border=\"1\" class=\"dataframe\">\n",
       "  <thead>\n",
       "    <tr style=\"text-align: right;\">\n",
       "      <th></th>\n",
       "      <th>variant</th>\n",
       "      <th>n</th>\n",
       "      <th>share %</th>\n",
       "    </tr>\n",
       "  </thead>\n",
       "  <tbody>\n",
       "    <tr>\n",
       "      <th>0</th>\n",
       "      <td>A</td>\n",
       "      <td>6029</td>\n",
       "      <td>50.242</td>\n",
       "    </tr>\n",
       "    <tr>\n",
       "      <th>1</th>\n",
       "      <td>B</td>\n",
       "      <td>5971</td>\n",
       "      <td>49.758</td>\n",
       "    </tr>\n",
       "  </tbody>\n",
       "</table>\n",
       "</div>"
      ],
      "text/plain": [
       "  variant     n  share %\n",
       "0       A  6029   50.242\n",
       "1       B  5971   49.758"
      ]
     },
     "metadata": {},
     "output_type": "display_data"
    }
   ],
   "source": [
    "# 4.1 Сплит A/B\n",
    "split = df.variant.value_counts().to_frame('n').reset_index()\n",
    "split['share %'] = ((split['n'] / sum(split['n'])) * 100).round(3)\n",
    "display(split)"
   ]
  },
  {
   "cell_type": "code",
   "execution_count": 20,
   "id": "3acd5fdd",
   "metadata": {},
   "outputs": [
    {
     "name": "stdout",
     "output_type": "stream",
     "text": [
      "0\n"
     ]
    }
   ],
   "source": [
    "# 4.2 Утечки: пользователь в обоих вариантах\n",
    "n_multi = (df.groupby('user_id')['variant'].nunique() > 1).sum()\n",
    "print(n_multi)"
   ]
  },
  {
   "cell_type": "code",
   "execution_count": 21,
   "id": "6f99fb4a",
   "metadata": {},
   "outputs": [
    {
     "data": {
      "text/plain": [
       "0"
      ]
     },
     "execution_count": 21,
     "metadata": {},
     "output_type": "execute_result"
    }
   ],
   "source": [
    "# 4.3 Дубликаты по user_id (если есть — нужно правило дедупликации)\n",
    "dup_rows = df.duplicated(['user_id'], keep = False).sum()\n",
    "dup_rows"
   ]
  },
  {
   "cell_type": "code",
   "execution_count": 24,
   "id": "75ab3462",
   "metadata": {},
   "outputs": [
    {
     "data": {
      "text/html": [
       "<div>\n",
       "<style scoped>\n",
       "    .dataframe tbody tr th:only-of-type {\n",
       "        vertical-align: middle;\n",
       "    }\n",
       "\n",
       "    .dataframe tbody tr th {\n",
       "        vertical-align: top;\n",
       "    }\n",
       "\n",
       "    .dataframe thead th {\n",
       "        text-align: right;\n",
       "    }\n",
       "</style>\n",
       "<table border=\"1\" class=\"dataframe\">\n",
       "  <thead>\n",
       "    <tr style=\"text-align: right;\">\n",
       "      <th>variant</th>\n",
       "      <th>A</th>\n",
       "      <th>B</th>\n",
       "    </tr>\n",
       "    <tr>\n",
       "      <th>assigned_ts</th>\n",
       "      <th></th>\n",
       "      <th></th>\n",
       "    </tr>\n",
       "  </thead>\n",
       "  <tbody>\n",
       "    <tr>\n",
       "      <th>2025-08-01</th>\n",
       "      <td>438</td>\n",
       "      <td>420</td>\n",
       "    </tr>\n",
       "    <tr>\n",
       "      <th>2025-08-02</th>\n",
       "      <td>464</td>\n",
       "      <td>442</td>\n",
       "    </tr>\n",
       "    <tr>\n",
       "      <th>2025-08-03</th>\n",
       "      <td>461</td>\n",
       "      <td>443</td>\n",
       "    </tr>\n",
       "    <tr>\n",
       "      <th>2025-08-04</th>\n",
       "      <td>432</td>\n",
       "      <td>437</td>\n",
       "    </tr>\n",
       "    <tr>\n",
       "      <th>2025-08-05</th>\n",
       "      <td>416</td>\n",
       "      <td>418</td>\n",
       "    </tr>\n",
       "    <tr>\n",
       "      <th>2025-08-06</th>\n",
       "      <td>442</td>\n",
       "      <td>408</td>\n",
       "    </tr>\n",
       "    <tr>\n",
       "      <th>2025-08-07</th>\n",
       "      <td>433</td>\n",
       "      <td>418</td>\n",
       "    </tr>\n",
       "    <tr>\n",
       "      <th>2025-08-08</th>\n",
       "      <td>419</td>\n",
       "      <td>425</td>\n",
       "    </tr>\n",
       "    <tr>\n",
       "      <th>2025-08-09</th>\n",
       "      <td>449</td>\n",
       "      <td>408</td>\n",
       "    </tr>\n",
       "    <tr>\n",
       "      <th>2025-08-10</th>\n",
       "      <td>399</td>\n",
       "      <td>420</td>\n",
       "    </tr>\n",
       "  </tbody>\n",
       "</table>\n",
       "</div>"
      ],
      "text/plain": [
       "variant        A    B\n",
       "assigned_ts          \n",
       "2025-08-01   438  420\n",
       "2025-08-02   464  442\n",
       "2025-08-03   461  443\n",
       "2025-08-04   432  437\n",
       "2025-08-05   416  418\n",
       "2025-08-06   442  408\n",
       "2025-08-07   433  418\n",
       "2025-08-08   419  425\n",
       "2025-08-09   449  408\n",
       "2025-08-10   399  420"
      ]
     },
     "metadata": {},
     "output_type": "display_data"
    }
   ],
   "source": [
    "# 4.4 Временной баланс (распределение назначений по дням + KS-тест по времени)\n",
    "day_tab = pd.pivot_table(\n",
    "    df,\n",
    "    index = df['assigned_ts'].dt.date,\n",
    "    columns = 'variant',\n",
    "    values = 'user_id',\n",
    "    aggfunc='count'\n",
    ").fillna(0).astype('int')\n",
    "display(day_tab.head(10))"
   ]
  },
  {
   "cell_type": "code",
   "execution_count": 30,
   "id": "44395829",
   "metadata": {},
   "outputs": [
    {
     "name": "stdout",
     "output_type": "stream",
     "text": [
      "KS test on assigned_ts: KS=0.021, p=0.1256\n"
     ]
    }
   ],
   "source": [
    "a_ts = (df[df.variant=='A']['assigned_ts'].astype('int64') // 10**9)\n",
    "b_ts = (df[df.variant=='B']['assigned_ts'].astype('int64') // 10**9)\n",
    "ks, ks_p = stats.ks_2samp(a_ts, b_ts)\n",
    "print(f'KS test on assigned_ts: KS={ks:.3f}, p={ks_p:.4f}')"
   ]
  },
  {
   "cell_type": "code",
   "execution_count": 34,
   "id": "3a561cee",
   "metadata": {},
   "outputs": [
    {
     "name": "stdout",
     "output_type": "stream",
     "text": [
      "[chi2] country: p=0.5934 (dof=4)\n",
      "[chi2] device: p=0.0617 (dof=1)\n",
      "[chi2] source: p=0.7715 (dof=3)\n"
     ]
    }
   ],
   "source": [
    "# 4.5 Баланс ковариат (категорические: chi-square; числовые: Welch t-test)\n",
    "for col in ['country','device','source']:\n",
    "    if col in df.columns:\n",
    "        tab = pd.crosstab(df[col], df['variant'])\n",
    "        chi2, pval, dof, _ = stats.chi2_contingency(tab, correction=False)\n",
    "        print(f'[chi2] {col}: p={pval:.4f} (dof={dof})')"
   ]
  },
  {
   "cell_type": "code",
   "execution_count": 33,
   "id": "b39a35ed",
   "metadata": {},
   "outputs": [
    {
     "name": "stdout",
     "output_type": "stream",
     "text": [
      "[Welch t] prior_activity: p=0.1186, mean_A=0.3057, mean_B=0.3108\n",
      "[Welch t] sessions: p=0.3574, mean_A=2.6033, mean_B=2.6247\n"
     ]
    }
   ],
   "source": [
    "for col in ['prior_activity','sessions']:\n",
    "    if col in df.columns:\n",
    "        a = df[df.variant=='A'][col].astype(float)\n",
    "        b = df[df.variant=='B'][col].astype(float)\n",
    "        t, pval = stats.ttest_ind(a, b, equal_var=False, nan_policy='omit')\n",
    "        print(f'[Welch t] {col}: p={pval:.4f}, mean_A={a.mean():.4f}, mean_B={b.mean():.4f}')"
   ]
  },
  {
   "cell_type": "code",
   "execution_count": null,
   "id": "1f706146",
   "metadata": {},
   "outputs": [
    {
     "data": {
      "text/html": [
       "<div>\n",
       "<style scoped>\n",
       "    .dataframe tbody tr th:only-of-type {\n",
       "        vertical-align: middle;\n",
       "    }\n",
       "\n",
       "    .dataframe tbody tr th {\n",
       "        vertical-align: top;\n",
       "    }\n",
       "\n",
       "    .dataframe thead th {\n",
       "        text-align: right;\n",
       "    }\n",
       "</style>\n",
       "<table border=\"1\" class=\"dataframe\">\n",
       "  <thead>\n",
       "    <tr style=\"text-align: right;\">\n",
       "      <th></th>\n",
       "      <th>conversions</th>\n",
       "      <th>visitors</th>\n",
       "      <th>cr</th>\n",
       "    </tr>\n",
       "    <tr>\n",
       "      <th>variant</th>\n",
       "      <th></th>\n",
       "      <th></th>\n",
       "      <th></th>\n",
       "    </tr>\n",
       "  </thead>\n",
       "  <tbody>\n",
       "    <tr>\n",
       "      <th>A</th>\n",
       "      <td>377</td>\n",
       "      <td>6029</td>\n",
       "      <td>0.062531</td>\n",
       "    </tr>\n",
       "    <tr>\n",
       "      <th>B</th>\n",
       "      <td>407</td>\n",
       "      <td>5971</td>\n",
       "      <td>0.068163</td>\n",
       "    </tr>\n",
       "  </tbody>\n",
       "</table>\n",
       "</div>"
      ],
      "text/plain": [
       "         conversions  visitors        cr\n",
       "variant                                 \n",
       "A                377      6029  0.062531\n",
       "B                407      5971  0.068163"
      ]
     },
     "metadata": {},
     "output_type": "display_data"
    }
   ],
   "source": [
    "#Основной результат: конверсия\n",
    "agg = df.groupby('variant')['converted'].agg(['sum', 'count'])\\\n",
    "    .rename(columns={'sum':'conversions','count':'visitors'})\n",
    "agg['cr'] = agg['conversions']/agg['visitors']\n",
    "display(agg)"
   ]
  },
  {
   "cell_type": "code",
   "execution_count": 44,
   "id": "86e9bc60",
   "metadata": {},
   "outputs": [
    {
     "data": {
      "text/plain": [
       "(1.2482405516502775, 0.2119429775577013)"
      ]
     },
     "execution_count": 44,
     "metadata": {},
     "output_type": "execute_result"
    }
   ],
   "source": [
    "success_a, total_a = int(agg.loc['A','conversions']), int(agg.loc['A','visitors'])\n",
    "success_b, total_b = int(agg.loc['B','conversions']), int(agg.loc['B','visitors'])\n",
    "\n",
    "z, p = proportions_ztest(success_a, total_a, success_b, total_b)\n",
    "z, p"
   ]
  },
  {
   "cell_type": "code",
   "execution_count": 46,
   "id": "bea2b2b3",
   "metadata": {},
   "outputs": [
    {
     "data": {
      "text/plain": [
       "(0.005631687118024059, (-0.0032122218490923168, 0.014475596085140435))"
      ]
     },
     "execution_count": 46,
     "metadata": {},
     "output_type": "execute_result"
    }
   ],
   "source": [
    "diff, (lo, hi) = ci_diff_wald(success_a, total_a, success_b, total_b, alpha=0.05)\n",
    "diff, (lo, hi)"
   ]
  },
  {
   "cell_type": "code",
   "execution_count": 47,
   "id": "1ea405ab",
   "metadata": {},
   "outputs": [],
   "source": [
    "rel = (agg.loc['B','cr']/agg.loc['A','cr'] - 1)*100"
   ]
  },
  {
   "cell_type": "code",
   "execution_count": 48,
   "id": "5f0f24ea",
   "metadata": {},
   "outputs": [
    {
     "data": {
      "text/html": [
       "<div>\n",
       "<style scoped>\n",
       "    .dataframe tbody tr th:only-of-type {\n",
       "        vertical-align: middle;\n",
       "    }\n",
       "\n",
       "    .dataframe tbody tr th {\n",
       "        vertical-align: top;\n",
       "    }\n",
       "\n",
       "    .dataframe thead th {\n",
       "        text-align: right;\n",
       "    }\n",
       "</style>\n",
       "<table border=\"1\" class=\"dataframe\">\n",
       "  <thead>\n",
       "    <tr style=\"text-align: right;\">\n",
       "      <th></th>\n",
       "      <th>abs_diff_B-A</th>\n",
       "      <th>CI95_low</th>\n",
       "      <th>CI95_high</th>\n",
       "      <th>rel_uplift_%</th>\n",
       "      <th>z_stat</th>\n",
       "      <th>p_value</th>\n",
       "    </tr>\n",
       "  </thead>\n",
       "  <tbody>\n",
       "    <tr>\n",
       "      <th>0</th>\n",
       "      <td>0.005632</td>\n",
       "      <td>-0.003212</td>\n",
       "      <td>0.014476</td>\n",
       "      <td>9.006218</td>\n",
       "      <td>1.248241</td>\n",
       "      <td>0.211943</td>\n",
       "    </tr>\n",
       "  </tbody>\n",
       "</table>\n",
       "</div>"
      ],
      "text/plain": [
       "   abs_diff_B-A  CI95_low  CI95_high  rel_uplift_%    z_stat   p_value\n",
       "0      0.005632 -0.003212   0.014476      9.006218  1.248241  0.211943"
      ]
     },
     "metadata": {},
     "output_type": "display_data"
    }
   ],
   "source": [
    "effect = pd.DataFrame({\n",
    "    'abs_diff_B-A':[diff],\n",
    "    'CI95_low':[lo],\n",
    "    'CI95_high':[hi],\n",
    "    'rel_uplift_%':[rel],\n",
    "    'z_stat':[z],\n",
    "    'p_value':[p]\n",
    "})\n",
    "display(effect)"
   ]
  },
  {
   "cell_type": "code",
   "execution_count": null,
   "id": "a37a1e5c",
   "metadata": {},
   "outputs": [
    {
     "data": {
      "text/plain": [
       "(array([ 0.02028353,  0.01551854, -0.01016142, ...,  0.0055679 ,\n",
       "         0.97566082,  0.01582195]),\n",
       " 0.06895798477242991)"
      ]
     },
     "execution_count": 49,
     "metadata": {},
     "output_type": "execute_result"
    }
   ],
   "source": [
    "# CUPED\n",
    "y = df['converted'].astype(float).values\n",
    "x = df['prior_activity'].astype(float).values\n",
    "y_adj, theta = cuped(y, x)\n",
    "y_adj, theta"
   ]
  },
  {
   "cell_type": "code",
   "execution_count": 50,
   "id": "f02bde13",
   "metadata": {},
   "outputs": [
    {
     "name": "stdout",
     "output_type": "stream",
     "text": [
      "theta=0.069\n",
      "CUPED means: A=0.0627, B=0.0680, diff=0.0053, p=0.2419\n"
     ]
    }
   ],
   "source": [
    "df['converted_cuped'] = y_adj\n",
    "cup = df.groupby('variant')['converted_cuped'].mean()\n",
    "a, b = cup['A'], cup['B']\n",
    "t, p_cup = stats.ttest_ind(\n",
    "    df[df.variant=='A']['converted_cuped'],\n",
    "    df[df.variant=='B']['converted_cuped'],\n",
    "    equal_var=False\n",
    ")\n",
    "print(f'theta={theta:.3f}')\n",
    "print(f'CUPED means: A={a:.4f}, B={b:.4f}, diff={b-a:.4f}, p={p_cup:.4f}')\n"
   ]
  },
  {
   "cell_type": "code",
   "execution_count": null,
   "id": "65a852ec",
   "metadata": {},
   "outputs": [
    {
     "data": {
      "text/html": [
       "<div>\n",
       "<style scoped>\n",
       "    .dataframe tbody tr th:only-of-type {\n",
       "        vertical-align: middle;\n",
       "    }\n",
       "\n",
       "    .dataframe tbody tr th {\n",
       "        vertical-align: top;\n",
       "    }\n",
       "\n",
       "    .dataframe thead tr th {\n",
       "        text-align: left;\n",
       "    }\n",
       "\n",
       "    .dataframe thead tr:last-of-type th {\n",
       "        text-align: right;\n",
       "    }\n",
       "</style>\n",
       "<table border=\"1\" class=\"dataframe\">\n",
       "  <thead>\n",
       "    <tr>\n",
       "      <th></th>\n",
       "      <th></th>\n",
       "      <th colspan=\"2\" halign=\"left\">mean</th>\n",
       "      <th colspan=\"2\" halign=\"left\">count</th>\n",
       "    </tr>\n",
       "    <tr>\n",
       "      <th></th>\n",
       "      <th>variant</th>\n",
       "      <th>A</th>\n",
       "      <th>B</th>\n",
       "      <th>A</th>\n",
       "      <th>B</th>\n",
       "    </tr>\n",
       "    <tr>\n",
       "      <th>device</th>\n",
       "      <th>source</th>\n",
       "      <th></th>\n",
       "      <th></th>\n",
       "      <th></th>\n",
       "      <th></th>\n",
       "    </tr>\n",
       "  </thead>\n",
       "  <tbody>\n",
       "    <tr>\n",
       "      <th rowspan=\"4\" valign=\"top\">desktop</th>\n",
       "      <th>ads</th>\n",
       "      <td>0.075437</td>\n",
       "      <td>0.073192</td>\n",
       "      <td>1087</td>\n",
       "      <td>1134</td>\n",
       "    </tr>\n",
       "    <tr>\n",
       "      <th>email</th>\n",
       "      <td>0.092827</td>\n",
       "      <td>0.085714</td>\n",
       "      <td>237</td>\n",
       "      <td>245</td>\n",
       "    </tr>\n",
       "    <tr>\n",
       "      <th>organic</th>\n",
       "      <td>0.062104</td>\n",
       "      <td>0.086691</td>\n",
       "      <td>789</td>\n",
       "      <td>819</td>\n",
       "    </tr>\n",
       "    <tr>\n",
       "      <th>referral</th>\n",
       "      <td>0.048507</td>\n",
       "      <td>0.103846</td>\n",
       "      <td>268</td>\n",
       "      <td>260</td>\n",
       "    </tr>\n",
       "    <tr>\n",
       "      <th rowspan=\"4\" valign=\"top\">mobile</th>\n",
       "      <th>ads</th>\n",
       "      <td>0.062620</td>\n",
       "      <td>0.058252</td>\n",
       "      <td>1565</td>\n",
       "      <td>1545</td>\n",
       "    </tr>\n",
       "    <tr>\n",
       "      <th>email</th>\n",
       "      <td>0.053191</td>\n",
       "      <td>0.052023</td>\n",
       "      <td>376</td>\n",
       "      <td>346</td>\n",
       "    </tr>\n",
       "    <tr>\n",
       "      <th>organic</th>\n",
       "      <td>0.054478</td>\n",
       "      <td>0.060800</td>\n",
       "      <td>1340</td>\n",
       "      <td>1250</td>\n",
       "    </tr>\n",
       "    <tr>\n",
       "      <th>referral</th>\n",
       "      <td>0.054496</td>\n",
       "      <td>0.056452</td>\n",
       "      <td>367</td>\n",
       "      <td>372</td>\n",
       "    </tr>\n",
       "  </tbody>\n",
       "</table>\n",
       "</div>"
      ],
      "text/plain": [
       "                      mean           count      \n",
       "variant                  A         B     A     B\n",
       "device  source                                  \n",
       "desktop ads       0.075437  0.073192  1087  1134\n",
       "        email     0.092827  0.085714   237   245\n",
       "        organic   0.062104  0.086691   789   819\n",
       "        referral  0.048507  0.103846   268   260\n",
       "mobile  ads       0.062620  0.058252  1565  1545\n",
       "        email     0.053191  0.052023   376   346\n",
       "        organic   0.054478  0.060800  1340  1250\n",
       "        referral  0.054496  0.056452   367   372"
      ]
     },
     "metadata": {},
     "output_type": "display_data"
    }
   ],
   "source": [
    "#Выручка\n",
    "\n",
    "seg = pd.pivot_table(\n",
    "    df, \n",
    "    index = ['device', 'source'],\n",
    "    columns = 'variant',\n",
    "    values = 'converted',\n",
    "    aggfunc= ['mean', 'count']\n",
    ")\n",
    "display(seg)"
   ]
  },
  {
   "cell_type": "code",
   "execution_count": 52,
   "id": "c9bb80f1",
   "metadata": {},
   "outputs": [
    {
     "name": "stdout",
     "output_type": "stream",
     "text": [
      "Welch t-test p=0.0000\n"
     ]
    }
   ],
   "source": [
    "t, p_rev = stats.ttest_ind(df[df.variant=='A']['revenue'],\n",
    "                               df[df.variant=='B']['revenue'],\n",
    "                               equal_var=False, nan_policy='omit')\n",
    "print(f'Welch t-test p={p_rev:.4f}')"
   ]
  },
  {
   "cell_type": "code",
   "execution_count": 53,
   "id": "2c4fdbeb",
   "metadata": {},
   "outputs": [
    {
     "name": "stdout",
     "output_type": "stream",
     "text": [
      "mean: {'A': 10.874566263061867, 'B': 11.921957796014068}\n",
      "median: {'A': 9.2, 'B': 9.87}\n"
     ]
    }
   ],
   "source": [
    "grp = df.groupby('variant')['revenue']\n",
    "print('mean:', grp.mean().to_dict())\n",
    "print('median:', grp.median().to_dict())"
   ]
  },
  {
   "cell_type": "code",
   "execution_count": 54,
   "id": "4f575374",
   "metadata": {},
   "outputs": [
    {
     "data": {
      "image/png": "[encoded data removed]",
      "text/plain": [
       "<Figure size 640x480 with 1 Axes>"
      ]
     },
     "metadata": {},
     "output_type": "display_data"
    },
    {
     "data": {
      "image/png": "[encoded data removed]",
      "text/plain": [
       "<Figure size 640x480 with 1 Axes>"
      ]
     },
     "metadata": {},
     "output_type": "display_data"
    }
   ],
   "source": [
    "plt.figure()\n",
    "df[df.variant=='A']['revenue'].dropna().plot(kind='hist', bins=40, alpha=0.5)\n",
    "plt.title('Revenue distribution — A')\n",
    "plt.show()\n",
    "\n",
    "plt.figure()\n",
    "df[df.variant=='B']['revenue'].dropna().plot(kind='hist', bins=40, alpha=0.5)\n",
    "plt.title('Revenue distribution — B')\n",
    "plt.show()"
   ]
  },
  {
   "cell_type": "code",
   "execution_count": null,
   "id": "95417759",
   "metadata": {},
   "outputs": [
    {
     "name": "stdout",
     "output_type": "stream",
     "text": [
      "Итог A/B по конверсии:\n",
      "- A: 6.25%  (n=6029)\n",
      "- B: 6.82%  (n=5971)\n",
      "- Разница (B-A): 0.56%  [95% CI: -0.32%; 1.45%]\n",
      "- Относительный эффект: 9.01%\n",
      "- z=1.248, p=0.2119\n",
      "\n",
      "Решение: статзначимых отличий нет/остаемся на A.\n",
      "Ограничения: множество срезов не корректировалось; проверь внешние факторы (акции/сезонность); убедись в корректности трекинга.\n",
      "Следующий шаг: протестировать ближайший элемент (оффер/форму/заголовок), рассмотреть CUPED/стратификацию заранее.\n",
      "\n"
     ]
    }
   ],
   "source": [
    "cr_a = agg.loc['A','cr']; cr_b = agg.loc['B','cr']\n",
    "txt = f\"\"\"Итог A/B по конверсии:\n",
    "- A: {cr_a:.2%}  (n={total_a})\n",
    "- B: {cr_b:.2%}  (n={total_b})\n",
    "- Разница (B-A): {diff:.2%}  [95% CI: {lo:.2%}; {hi:.2%}]\n",
    "- Относительный эффект: {rel:.2f}%\n",
    "- z={z:.3f}, p={p:.4f}\n",
    "\n",
    "Решение: {'фиксируем победителя B' if p<0.05 and diff>0 else 'статзначимых отличий нет/остаемся на A'}.\n",
    "Ограничения: множество срезов не корректировалось; проверка внешних факторов (акции/сезонность); убедиться в корректности трекинга.\n",
    "Следующий шаг: протестировать ближайший элемент (оффер/форму/заголовок), рассмотреть CUPED/стратификацию заранее.\n",
    "\"\"\"\n",
    "print(txt)\n"
   ]
  },
  {
   "cell_type": "code",
   "execution_count": null,
   "id": "b596664a",
   "metadata": {},
   "outputs": [],
   "source": []
  }
 ],
 "metadata": {
  "kernelspec": {
   "display_name": "base",
   "language": "python",
   "name": "python3"
  },
  "language_info": {
   "codemirror_mode": {
    "name": "ipython",
    "version": 3
   },
   "file_extension": ".py",
   "mimetype": "text/x-python",
   "name": "python",
   "nbconvert_exporter": "python",
   "pygments_lexer": "ipython3",
   "version": "3.12.3"
  }
 },
 "nbformat": 4,
 "nbformat_minor": 5
}
